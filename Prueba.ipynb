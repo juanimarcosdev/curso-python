{
 "cells": [
  {
   "cell_type": "markdown",
   "id": "58b13ea3",
   "metadata": {},
   "source": [
    "# Esto es una título en Markdown\n",
    "## Esto es un subtitulo en Markdown\n",
    "Esto es un texto para un parágrafo en Markdown\n",
    "\n",
    "*Esto es un texto en cursiva*\n",
    "\n",
    "**esto es un texto en negrita**"
   ]
  },
  {
   "cell_type": "code",
   "execution_count": 1,
   "id": "ae3a581a",
   "metadata": {},
   "outputs": [
    {
     "name": "stdout",
     "output_type": "stream",
     "text": [
      "Hola mundo\n"
     ]
    }
   ],
   "source": [
    "print(\"Hola mundo\")"
   ]
  },
  {
   "cell_type": "code",
   "execution_count": 2,
   "id": "31261b69",
   "metadata": {},
   "outputs": [
    {
     "name": "stdout",
     "output_type": "stream",
     "text": [
      "Print es una instruccion que muestra texto por pantalla\n"
     ]
    }
   ],
   "source": [
    "print(\"Print es una instruccion que muestra texto por pantalla\")"
   ]
  },
  {
   "cell_type": "code",
   "execution_count": null,
   "id": "2bccf320",
   "metadata": {},
   "outputs": [],
   "source": []
  }
 ],
 "metadata": {
  "kernelspec": {
   "display_name": "Python 3 (ipykernel)",
   "language": "python",
   "name": "python3"
  },
  "language_info": {
   "codemirror_mode": {
    "name": "ipython",
    "version": 3
   },
   "file_extension": ".py",
   "mimetype": "text/x-python",
   "name": "python",
   "nbconvert_exporter": "python",
   "pygments_lexer": "ipython3",
   "version": "3.10.4"
  }
 },
 "nbformat": 4,
 "nbformat_minor": 5
}
